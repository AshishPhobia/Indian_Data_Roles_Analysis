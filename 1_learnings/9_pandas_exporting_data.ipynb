{
 "cells": [
  {
   "cell_type": "code",
   "execution_count": 1,
   "id": "66e77d2f",
   "metadata": {},
   "outputs": [],
   "source": [
    "# Importing Libraries\n",
    "import pandas as pd\n",
    "from datasets import load_dataset\n",
    "import matplotlib.pyplot as plt\n",
    "\n",
    "\n",
    "# Loading Dataset\n",
    "dataset = load_dataset('lukebarousse/data_jobs')\n",
    "df = dataset['train'].to_pandas()\n",
    "\n",
    "# Data Cleanup\n",
    "df['job_posted_date'] = pd.to_datetime(df['job_posted_date'])"
   ]
  },
  {
   "cell_type": "code",
   "execution_count": 6,
   "id": "13c5a65b",
   "metadata": {},
   "outputs": [],
   "source": [
    "df['job_posted_month'] = df.job_posted_date.dt.strftime('%b')\n",
    "months = df.job_posted_month.unique()\n",
    "dict_months = {month: df[df['job_posted_month'] == month] for month in months}\n",
    "dict_months['Jan'].head()\n",
    "df_q1 = pd.concat([dict_months['Jan'], dict_months['Feb'], dict_months['Mar']], ignore_index=True)"
   ]
  },
  {
   "cell_type": "markdown",
   "id": "6db61d39",
   "metadata": {},
   "source": [
    "### to_clipboard"
   ]
  },
  {
   "cell_type": "code",
   "execution_count": 7,
   "id": "b9dd37c2",
   "metadata": {},
   "outputs": [],
   "source": [
    "df_q1.head().to_clipboard(sep=\",\")"
   ]
  },
  {
   "cell_type": "markdown",
   "id": "044727f3",
   "metadata": {},
   "source": [
    ",job_title_short,job_title,job_location,job_via,job_schedule_type,job_work_from_home,search_location,job_posted_date,job_no_degree_mention,job_health_insurance,job_country,salary_rate,salary_year_avg,salary_hour_avg,company_name,job_skills,job_type_skills,job_posted_month\n",
    "0,Data Analyst,Data Analyst,\"Guadalajara, Jalisco, Mexico\",via BeBee México,Full-time,False,Mexico,2023-01-14 13:18:07,False,False,Mexico,,,,Hewlett Packard Enterprise,\"['r', 'python', 'sql', 'nosql', 'power bi', 'tableau']\",\"{'analyst_tools': ['power bi', 'tableau'], 'programming': ['r', 'python', 'sql', 'nosql']}\",Jan\n",
    "1,Data Scientist,Data Scientist,\"Zaventem, Belgium\",via BeBee Belgique,Full-time,False,Belgium,2023-01-31 13:53:38,False,False,Belgium,,,,Devoteam,\"['r', 'python', 'sql', 'pandas', 'numpy', 'scikit-learn', 'matplotlib', 'hadoop', 'spark']\",\"{'libraries': ['pandas', 'numpy', 'scikit-learn', 'matplotlib', 'hadoop', 'spark'], 'programming': ['r', 'python', 'sql']}\",Jan\n",
    "2,Data Engineer,Data Engineer,\"Fort Worth, TX\",via LinkedIn,Full-time,False,\"Texas, United States\",2023-01-25 13:24:01,False,False,United States,,,,Programmers.io,\"['sql', 'python']\",\"{'programming': ['sql', 'python']}\",Jan\n",
    "3,Data Engineer,Data Engineer,\"San Mateo, CA\",via LinkedIn,Full-time,False,\"California, United States\",2023-01-28 13:07:30,False,True,United States,,,,Verkada,\"['sql', 'python', 'aws', 'looker']\",\"{'analyst_tools': ['looker'], 'cloud': ['aws'], 'programming': ['sql', 'python']}\",Jan\n",
    "4,Data Scientist,Data Scientist,\"São Paulo, State of São Paulo, Brazil\",via BeBee,Full-time,False,Brazil,2023-01-03 23:02:27,False,False,Brazil,,,,Mars,\"['python', 'sql', 'azure']\",\"{'cloud': ['azure'], 'programming': ['python', 'sql']}\",Jan\n"
   ]
  },
  {
   "cell_type": "markdown",
   "id": "38aa50bc",
   "metadata": {},
   "source": [
    "### to_csv"
   ]
  },
  {
   "cell_type": "code",
   "execution_count": null,
   "id": "9469f18d",
   "metadata": {},
   "outputs": [],
   "source": [
    "# df_q1.to_csv(\"quarter_1.csv\")"
   ]
  },
  {
   "cell_type": "code",
   "execution_count": null,
   "id": "9b2110f1",
   "metadata": {},
   "outputs": [],
   "source": [
    "# pd.read_csv('quarter_1.csv', index_col=0)"
   ]
  },
  {
   "cell_type": "markdown",
   "id": "d095ffa8",
   "metadata": {},
   "source": [
    "### to_excel\n",
    "\n",
    "To convert data to excel two things to know\n",
    "\n",
    "1. have to install openpyxl module\n",
    "2. excel have million row limit"
   ]
  },
  {
   "cell_type": "code",
   "execution_count": null,
   "id": "1adc834a",
   "metadata": {},
   "outputs": [],
   "source": [
    "# df_q1.to_excel(\"quarter_1.xlsx\")"
   ]
  },
  {
   "cell_type": "markdown",
   "id": "4e2fdc39",
   "metadata": {},
   "source": [
    "### to_sql()\n",
    "\n",
    "To convert sql you should install sqlalchemy module"
   ]
  },
  {
   "cell_type": "markdown",
   "id": "8ae3c0ed",
   "metadata": {},
   "source": [
    "below two methods are used when we are tackeling with large datasets \n",
    "\n",
    "it helps to quickly read, load ."
   ]
  },
  {
   "cell_type": "markdown",
   "id": "0f58f228",
   "metadata": {},
   "source": [
    "### to_parquet()"
   ]
  },
  {
   "cell_type": "code",
   "execution_count": 8,
   "id": "d8bccdd6",
   "metadata": {},
   "outputs": [],
   "source": [
    "# df_q1.to_parquet(\"quarter_1.parquet\")"
   ]
  },
  {
   "cell_type": "markdown",
   "id": "d6d6804b",
   "metadata": {},
   "source": [
    "### to_pickle()"
   ]
  },
  {
   "cell_type": "code",
   "execution_count": null,
   "id": "ec056039",
   "metadata": {},
   "outputs": [],
   "source": [
    "# df_q1.to_pickle(\"quarter_1.pickle\")"
   ]
  }
 ],
 "metadata": {
  "kernelspec": {
   "display_name": "data_jobs",
   "language": "python",
   "name": "python3"
  },
  "language_info": {
   "codemirror_mode": {
    "name": "ipython",
    "version": 3
   },
   "file_extension": ".py",
   "mimetype": "text/x-python",
   "name": "python",
   "nbconvert_exporter": "python",
   "pygments_lexer": "ipython3",
   "version": "3.13.5"
  }
 },
 "nbformat": 4,
 "nbformat_minor": 5
}
